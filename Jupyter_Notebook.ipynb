{
 "cells": [
  {
   "cell_type": "markdown",
   "metadata": {},
   "source": [
    "<center>\n",
    "    <img src=\"https://cf-courses-data.s3.us.cloud-object-storage.appdomain.cloud/IBMDeveloperSkillsNetwork-DS0105EN-SkillsNetwork/labs/Module2/images/SN_web_lightmode.png\" width=\"300\" alt=\"cognitiveclass.ai logo\">\n",
    "</center>\n"
   ]
  },
  {
   "cell_type": "markdown",
   "metadata": {},
   "source": [
    "#### Add your code below following the instructions given in the course\n"
   ]
  },
  {
   "cell_type": "markdown",
   "metadata": {},
   "source": [
    "# Data Science Overview\n",
    "## Introduction\n",
    "\n",
    "In this notebook, we will explore various aspects of Data Science, including the most commonly used languages, libraries, tools, and basic operations. This notebook will serve as an introductory guide for beginners in Data Science.\n",
    "## Data Science Languages\n",
    "\n",
    "- Python\n",
    "- R\n",
    "- SQL\n",
    "- Java\n",
    "- Julia\n",
    "## Data Science Libraries\n",
    "\n",
    "- Pandas\n",
    "- NumPy\n",
    "- Matplotlib\n",
    "- SciPy\n",
    "- Scikit-learn\n",
    "- TensorFlow\n",
    "- Keras\n",
    "## Data Science Tools\n",
    "\n",
    "| Tool           | Purpose                              |\n",
    "|----------------|--------------------------------------|\n",
    "| Jupyter        | Interactive notebooks for coding     |\n",
    "| GitHub         | Version control and collaboration    |\n",
    "| Anaconda       | Package management and environment  |\n",
    "| Tableau        | Data visualization                   |\n",
    "| RStudio        | IDE for R programming                |\n",
    "## Arithmetic Expression Examples\n",
    "\n",
    "In this section, we will demonstrate simple arithmetic operations that can be performed in Python.\n",
    "# Multiplication and addition\n",
    "a = 5\n",
    "b = 3\n",
    "\n",
    "# Multiply\n",
    "result_multiply = a * b\n",
    "\n",
    "# Add\n",
    "result_add = a + b\n",
    "\n",
    "result_multiply, result_add\n",
    "# Function to convert minutes to hours\n",
    "def convert_minutes_to_hours(minutes):\n",
    "    hours = minutes / 60\n",
    "    return hours\n",
    "\n",
    "# Example usage\n",
    "minutes = 150\n",
    "convert_minutes_to_hours(minutes)\n",
    "## Objectives\n",
    "\n",
    "1. Understand the basics of data science.\n",
    "2. Learn about key programming languages for data science.\n",
    "3. Get familiar with important data science libraries.\n",
    "4. Learn how to perform simple arithmetic operations in Python.\n",
    "## Author\n",
    "\n",
    "This notebook was created by Aamogha Billore.\n"
   ]
  },
  {
   "cell_type": "markdown",
   "metadata": {},
   "source": [
    "# Data Science Final Project\n"
   ]
  },
  {
   "cell_type": "code",
   "execution_count": null,
   "metadata": {},
   "outputs": [],
   "source": []
  }
 ],
 "metadata": {
  "kernelspec": {
   "display_name": "Python 3 (ipykernel)",
   "language": "python",
   "name": "python3"
  },
  "language_info": {
   "codemirror_mode": {
    "name": "ipython",
    "version": 3
   },
   "file_extension": ".py",
   "mimetype": "text/x-python",
   "name": "python",
   "nbconvert_exporter": "python",
   "pygments_lexer": "ipython3",
   "version": "3.11.9"
  }
 },
 "nbformat": 4,
 "nbformat_minor": 4
}
